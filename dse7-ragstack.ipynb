{
  "cells": [
    {
      "cell_type": "markdown",
      "id": "d2d6ca14-fb7e-4172-9aa0-a3119a064b96",
      "metadata": {
        "id": "d2d6ca14-fb7e-4172-9aa0-a3119a064b96"
      },
      "source": [
        "# Vector Search with DataStax Enterprise 7 & RAGStack\n",
        "\n",
        "This page provides a quick start for using [DataStax Enterprise 7](https://www.datastax.com/blog/introducing-vector-search-for-self-managed-datastax-enterprise) as a Vector Store.\n",
        "\n",
        "Additionally, we're introducing [RAGStack](https://www.datastax.com/products/ragstack), an out of the box solution simplifying Retrieval Augmented Generation (RAG) in AI apps. RAGStack includes the best open-source libraries for implementing RAG, giving developers a comprehensive Gen AI Stack leveraging LangChain, CassIO, and more.\n",
        "\n",
        "***In addition to access to the database, an OpenAI API Key is required to run the full example.***"
      ]
    },
    {
      "cell_type": "code",
      "execution_count": null,
      "id": "a3f57b3d-3c31-4f98-b141-e9fa69f335b4",
      "metadata": {
        "gather": {
          "logged": 1708989921989
        },
        "id": "a3f57b3d-3c31-4f98-b141-e9fa69f335b4",
        "jupyter": {
          "outputs_hidden": false,
          "source_hidden": false
        },
        "nteract": {
          "transient": {
            "deleting": false
          }
        }
      },
      "outputs": [],
      "source": [
        "import os\n",
        "from getpass import getpass\n",
        "\n",
        "cluster_external_ip = 'my-ip'\n",
        "cass_user = 'my-user'"
      ]
    },
    {
      "cell_type": "code",
      "execution_count": null,
      "id": "eb5a63f5-6725-4756-933a-6aadd57c992e",
      "metadata": {
        "colab": {
          "base_uri": "https://localhost:8080/"
        },
        "gather": {
          "logged": 1708989923612
        },
        "id": "eb5a63f5-6725-4756-933a-6aadd57c992e",
        "jupyter": {
          "outputs_hidden": false,
          "source_hidden": false
        },
        "nteract": {
          "transient": {
            "deleting": false
          }
        },
        "outputId": "f35b44da-1249-40dd-c19b-d322071350d2"
      },
      "outputs": [],
      "source": [
        "print(cluster_external_ip)"
      ]
    },
    {
      "cell_type": "code",
      "execution_count": null,
      "id": "8d00fcf4-9798-4289-9214-d9734690adfc",
      "metadata": {
        "colab": {
          "base_uri": "https://localhost:8080/"
        },
        "gather": {
          "logged": 1708978231448
        },
        "id": "8d00fcf4-9798-4289-9214-d9734690adfc",
        "nbmake": {
          "post_cell_execute": [
            "import os\n",
            "ASTRA_DB_API_ENDPOINT = os.environ[\"ASTRA_DB_API_ENDPOINT\"]\n",
            "ASTRA_DB_APPLICATION_TOKEN = os.environ[\"ASTRA_DB_APPLICATION_TOKEN\"]\n",
            "ASTRA_DB_ID = os.environ[\"ASTRA_DB_ID\"]\n",
            "ASTRA_DB_KEYSPACE = os.getenv(\"ASTRA_DB_KEYSPACE\")"
          ]
        },
        "outputId": "f2dc9a3d-b0bb-4854-9cda-4188d1462f96"
      },
      "outputs": [],
      "source": [
        "#Dependency Install\n",
        "%pip install datasets pypdf ragstack-ai ipywidgets"
      ]
    },
    {
      "cell_type": "code",
      "execution_count": null,
      "id": "b06619af-fea2-4863-8149-7f239a8c9c82",
      "metadata": {
        "gather": {
          "logged": 1708989935187
        },
        "id": "b06619af-fea2-4863-8149-7f239a8c9c82"
      },
      "outputs": [],
      "source": [
        "from datasets import load_dataset\n",
        "\n",
        "import langchain\n",
        "from langchain_openai import OpenAI\n",
        "from langchain_community.document_loaders import PyPDFLoader\n",
        "from langchain_openai import OpenAIEmbeddings\n",
        "from langchain.prompts import ChatPromptTemplate\n",
        "from langchain.schema import Document\n",
        "from langchain.schema.output_parser import StrOutputParser\n",
        "from langchain.schema.runnable import RunnablePassthrough\n",
        "from langchain.text_splitter import RecursiveCharacterTextSplitter"
      ]
    },
    {
      "cell_type": "markdown",
      "id": "6e68452e-df58-485a-a1b3-5778a5cd8f7f",
      "metadata": {
        "id": "6e68452e-df58-485a-a1b3-5778a5cd8f7f",
        "nteract": {
          "transient": {
            "deleting": false
          }
        }
      },
      "source": [
        "##### Paste your OpenAI API key into the prompt"
      ]
    },
    {
      "cell_type": "code",
      "execution_count": null,
      "id": "1983f1da-0ae7-4a9b-bf4c-4ade328f7a3a",
      "metadata": {
        "colab": {
          "base_uri": "https://localhost:8080/"
        },
        "gather": {
          "logged": 1708989942339
        },
        "id": "1983f1da-0ae7-4a9b-bf4c-4ade328f7a3a",
        "outputId": "4820cee1-4cdb-482a-8ffb-27c6cc6c13a2",
        "tags": [
          "skip-execution"
        ]
      },
      "outputs": [],
      "source": [
        "os.environ[\"OPENAI_API_KEY\"] = getpass(\"OPENAI_API_KEY = \")"
      ]
    },
    {
      "cell_type": "code",
      "execution_count": null,
      "id": "c656df06-e938-4bc5-b570-440b8b7a0189",
      "metadata": {
        "colab": {
          "base_uri": "https://localhost:8080/"
        },
        "gather": {
          "logged": 1708989945010
        },
        "id": "c656df06-e938-4bc5-b570-440b8b7a0189",
        "outputId": "d43b7a0d-0462-4c63-9b6e-ce46830a6f28"
      },
      "outputs": [],
      "source": [
        "embe = OpenAIEmbeddings(model=\"text-embedding-3-large\")"
      ]
    },
    {
      "cell_type": "code",
      "execution_count": null,
      "id": "Ldk8gKYq2T-N",
      "metadata": {
        "colab": {
          "base_uri": "https://localhost:8080/"
        },
        "id": "Ldk8gKYq2T-N",
        "outputId": "8609f44d-fa03-4822-f75c-bfbe7ee92811"
      },
      "outputs": [],
      "source": [
        "cass_pass = getpass(\"DSE password = \")"
      ]
    },
    {
      "cell_type": "code",
      "execution_count": null,
      "id": "G9DFlOAA2dmS",
      "metadata": {
        "colab": {
          "base_uri": "https://localhost:8080/"
        },
        "id": "G9DFlOAA2dmS",
        "outputId": "ebb02795-4005-4d3d-9ff4-f3ab651f2a8d"
      },
      "outputs": [],
      "source": [
        "print(cass_pass)"
      ]
    },
    {
      "cell_type": "markdown",
      "id": "22866f09-e10d-4f05-a24b-b9420129462e",
      "metadata": {
        "id": "22866f09-e10d-4f05-a24b-b9420129462e"
      },
      "source": [
        "## DataStax Enterprise 7 Session\n",
        "`RAGStack` includes LangChain modules for both vector similarity search and vector database operations. Here we will `IMPORT` the `Cassandra` vector store library, which includes DataStax Enterprise functionality."
      ]
    },
    {
      "cell_type": "code",
      "execution_count": null,
      "id": "0b32730d-176e-414c-9d91-fd3644c54211",
      "metadata": {
        "gather": {
          "logged": 1708989948037
        },
        "id": "0b32730d-176e-414c-9d91-fd3644c54211"
      },
      "outputs": [],
      "source": [
        "from langchain.vectorstores import Cassandra"
      ]
    },
    {
      "cell_type": "code",
      "execution_count": null,
      "id": "eaaa8005-1ecf-4f81-9146-d46ca33bdcfa",
      "metadata": {
        "colab": {
          "base_uri": "https://localhost:8080/"
        },
        "gather": {
          "logged": 1708990013298
        },
        "id": "eaaa8005-1ecf-4f81-9146-d46ca33bdcfa",
        "jupyter": {
          "outputs_hidden": false,
          "source_hidden": false
        },
        "nteract": {
          "transient": {
            "deleting": false
          }
        },
        "outputId": "4c0be699-80a1-4e50-96e3-7329925b98c9"
      },
      "outputs": [],
      "source": [
        "from cassandra.cluster import Cluster, PlainTextAuthProvider\n",
        "\n",
        "# User name & password\n",
        "auth_provider = PlainTextAuthProvider(\n",
        "        username=cass_user, password=cass_pass)\n",
        "\n",
        "cluster = Cluster([cluster_external_ip],connect_timeout=30,auth_provider=auth_provider)\n",
        "session = cluster.connect()"
      ]
    },
    {
      "cell_type": "code",
      "execution_count": null,
      "id": "ff15797f-8555-4124-8445-41b3f7488997",
      "metadata": {
        "colab": {
          "base_uri": "https://localhost:8080/"
        },
        "gather": {
          "logged": 1708981649759
        },
        "id": "ff15797f-8555-4124-8445-41b3f7488997",
        "jupyter": {
          "outputs_hidden": false,
          "source_hidden": false
        },
        "nteract": {
          "transient": {
            "deleting": false
          }
        },
        "outputId": "3edee723-ac04-4588-eeba-5183ef80bd60"
      },
      "outputs": [],
      "source": [
        "# Create a keyspace in the DSE 7 cluster\n",
        "session.execute(\"CREATE KEYSPACE IF NOT EXISTS vector_keyspace WITH REPLICATION = { 'class' : 'SimpleStrategy', 'replication_factor' : 1 };\")"
      ]
    },
    {
      "cell_type": "code",
      "execution_count": null,
      "id": "97a32e0e-f006-4fec-9b1d-44f7cd410b42",
      "metadata": {
        "gather": {
          "logged": 1708990016644
        },
        "id": "97a32e0e-f006-4fec-9b1d-44f7cd410b42",
        "jupyter": {
          "outputs_hidden": false,
          "source_hidden": false
        },
        "nteract": {
          "transient": {
            "deleting": false
          }
        }
      },
      "outputs": [],
      "source": [
        "import cassio\n",
        "\n",
        "cassio.init(session=session, keyspace=\"vector_keyspace\")"
      ]
    },
    {
      "cell_type": "code",
      "execution_count": null,
      "id": "ed91c25b-0814-4424-ab05-3c7f4ea7e96d",
      "metadata": {
        "gather": {
          "logged": 1708990020313
        },
        "id": "ed91c25b-0814-4424-ab05-3c7f4ea7e96d",
        "jupyter": {
          "outputs_hidden": false,
          "source_hidden": false
        },
        "nteract": {
          "transient": {
            "deleting": false
          }
        }
      },
      "outputs": [],
      "source": [
        "#Create the LangChain vector store object\n",
        "vstore = Cassandra(\n",
        "    embedding=embe, table_name=\"cassandra_vector_demo\", session=None, keyspace=None\n",
        ")"
      ]
    },
    {
      "cell_type": "markdown",
      "id": "9a348678-b2f6-46ca-9a0d-2eb4cc6b66b1",
      "metadata": {
        "id": "9a348678-b2f6-46ca-9a0d-2eb4cc6b66b1"
      },
      "source": [
        "### Load A Dataset\n",
        "Convert each entry in the source dataset into a `Document`, then write them into the vector store:"
      ]
    },
    {
      "cell_type": "code",
      "execution_count": null,
      "id": "3a1f532f-ad63-4256-9730-a183841bd8e9",
      "metadata": {
        "colab": {
          "base_uri": "https://localhost:8080/",
          "height": 276,
          "referenced_widgets": [
            "89128d3346d345778cebb232d9858488",
            "c20af745ae544d1288863dae7b1ca34c",
            "c662122bb2bb4b458c08e4043ddd587d",
            "1a2164db9f2f444b977552a8888b08b0",
            "f4230c5994ef455cb3c0f0a9f6e91937",
            "21147c0ee3a44a88a5ea4fd5dde1b436",
            "3b159fdf02d24ab2bf50964ff23d687f",
            "56092eb7432e4c4789622e2c10024d65",
            "bc9c93de135448c0b4d4d026080a0d17",
            "9bbe117d8afc4e6ea9e6ce205e016427",
            "b3f463f0300844739189c0c8ddb16854",
            "4a7f51e929954377902130ae5c5531d4",
            "8b3a768447a946229c9a654a24722c59",
            "37c1b5a7cb9a490eb469483d299dfbd9",
            "13c7e9383ed34455a8b2c5e92336e8bb",
            "75c36360470942b68b897a5f695a283d",
            "2f56513006f348f0b52b41e517a3f9e0",
            "dff2c0370c1845e4b69a8c2493961698",
            "5e57731188c8499e98c515a62971a293",
            "97e7a5a323e747aea2250af5be56c619",
            "7e8961cafe4d4936837a11a03e9784cc",
            "3dc94f9231d94ada8e21a84f0b3adacd",
            "1450de4829384ae1bf92f93660977c50",
            "1d5a031fa059403fb82003deb5cab2dd",
            "7d7acde1e2cb4e319627a6d4784e8924",
            "488f6a9b3fe44f04a339799fa08aa671",
            "3ae4027d76eb4f3791e23e1a734698b1",
            "77f772e3a41647b5a6d20c774ecd336a",
            "73e4bb37413743c5a0e8b4fd1ee3ad87",
            "ceced63587194a99bc8ff52c342bbf26",
            "1a0f592998b548f6aad3d908776f41d9",
            "c8154e1d5aab4faeb5dfc56d9749c590",
            "d6a4f5ff4b874bad9ee1fa1949b4c18b"
          ]
        },
        "gather": {
          "logged": 1708990031340
        },
        "id": "3a1f532f-ad63-4256-9730-a183841bd8e9",
        "nbmake": {
          "post_cell_execute": [
            "assert len(inserted_ids) > 0"
          ]
        },
        "outputId": "f6928313-b857-49cc-838a-ef6936edb6dc"
      },
      "outputs": [],
      "source": [
        "philo_dataset = load_dataset(\"datastax/philosopher-quotes\")[\"train\"]\n",
        "\n",
        "docs = []\n",
        "for entry in philo_dataset:\n",
        "    metadata = {\"author\": entry[\"author\"]}\n",
        "    doc = Document(page_content=entry[\"quote\"], metadata=metadata)\n",
        "    docs.append(doc)\n",
        "\n",
        "inserted_ids = vstore.add_documents(docs)\n",
        "print(f\"\\nInserted {len(inserted_ids)} documents.\")"
      ]
    },
    {
      "cell_type": "markdown",
      "id": "79d4f436-ef04-4288-8f79-97c9abb983ed",
      "metadata": {
        "id": "79d4f436-ef04-4288-8f79-97c9abb983ed"
      },
      "source": [
        "In the above, `metadata` dictionaries are created from the source data and are part of the `Document`.\n",
        "\n",
        "_Note: check the [Astra DB API Docs](https://docs.datastax.com/en/astra-serverless/docs/develop/dev-with-json.html#_json_api_limits) for the valid metadata field names: some characters are reserved and cannot be used._"
      ]
    },
    {
      "cell_type": "code",
      "execution_count": null,
      "id": "b6b157f5-eb31-4907-a78e-2e2b06893936",
      "metadata": {
        "colab": {
          "base_uri": "https://localhost:8080/"
        },
        "gather": {
          "logged": 1708990071166
        },
        "id": "b6b157f5-eb31-4907-a78e-2e2b06893936",
        "nbmake": {
          "post_cell_execute": [
            "assert len(inserted_ids_2) > 0"
          ]
        },
        "outputId": "6a6362e3-1b28-4d0b-c49a-886671f2956a"
      },
      "outputs": [],
      "source": [
        "texts = [\"I think, therefore I am.\", \"To the things themselves!\"]\n",
        "metadatas = [{\"author\": \"descartes\"}, {\"author\": \"husserl\"}]\n",
        "ids = [\"desc_01\", \"huss_xy\"]\n",
        "\n",
        "inserted_ids_2 = vstore.add_texts(texts=texts, metadatas=metadatas, ids=ids)\n",
        "print(f\"\\nInserted {len(inserted_ids_2)} documents.\")"
      ]
    },
    {
      "cell_type": "markdown",
      "id": "c031760a-1fc5-4855-adf2-02ed52fe2181",
      "metadata": {
        "id": "c031760a-1fc5-4855-adf2-02ed52fe2181"
      },
      "source": [
        "_Note: you may want to speed up the execution of `add_texts` and `add_documents` by increasing the concurrency level for_\n",
        "_these bulk operations - check out the `*_concurrency` parameters in the class constructor and the `add_texts` docstrings_\n",
        "_for more details. Depending on the network and the client machine specifications, your best-performing choice of parameters may vary._\n",
        "### Run simple searches\n",
        "This section demonstrates metadata filtering and getting the similarity scores back:"
      ]
    },
    {
      "cell_type": "code",
      "execution_count": null,
      "id": "1761806a-1afd-4491-867c-25a80d92b9fe",
      "metadata": {
        "colab": {
          "base_uri": "https://localhost:8080/"
        },
        "gather": {
          "logged": 1708990076375
        },
        "id": "1761806a-1afd-4491-867c-25a80d92b9fe",
        "nbmake": {
          "post_cell_execute": [
            "assert len(results) > 0"
          ]
        },
        "outputId": "7f805b26-e624-4e97-ec14-0a09fae1362f"
      },
      "outputs": [],
      "source": [
        "results = vstore.similarity_search(\"Our life is what we make of it\", k=3)\n",
        "for res in results:\n",
        "    print(f\"* {res.page_content} [{res.metadata}]\")"
      ]
    },
    {
      "cell_type": "code",
      "execution_count": null,
      "id": "eebc4f7c-f61a-438e-b3c8-17e6888d8a0b",
      "metadata": {
        "colab": {
          "base_uri": "https://localhost:8080/"
        },
        "gather": {
          "logged": 1708990188879
        },
        "id": "eebc4f7c-f61a-438e-b3c8-17e6888d8a0b",
        "nbmake": {
          "post_cell_execute": [
            "assert len(results_filtered) > 0"
          ]
        },
        "outputId": "7000016a-0a7a-40da-829c-9ac9565d06bc"
      },
      "outputs": [],
      "source": [
        "results_filtered = vstore.similarity_search(\n",
        "    \"Our life is what we make of it\",\n",
        "    k=3,\n",
        "    filter={\"author\": \"plato\"},\n",
        ")\n",
        "for res in results_filtered:\n",
        "    print(f\"* {res.page_content} [{res.metadata}]\")"
      ]
    },
    {
      "cell_type": "code",
      "execution_count": null,
      "id": "11bbfe64-c0cd-40c6-866a-a5786538450e",
      "metadata": {
        "colab": {
          "base_uri": "https://localhost:8080/"
        },
        "gather": {
          "logged": 1708990206057
        },
        "id": "11bbfe64-c0cd-40c6-866a-a5786538450e",
        "nbmake": {
          "post_cell_execute": [
            "assert len(results) > 0"
          ]
        },
        "outputId": "4377abb8-63a7-46ea-89b1-3ee678a9c029"
      },
      "outputs": [],
      "source": [
        "results = vstore.similarity_search_with_score(\"Our life is what we make of it\", k=3)\n",
        "for res, score in results:\n",
        "    print(f\"* [SIM={score:3f}] {res.page_content} [{res.metadata}]\")"
      ]
    },
    {
      "cell_type": "markdown",
      "id": "b14ea558-bfbe-41ce-807e-d70670060ada",
      "metadata": {
        "id": "b14ea558-bfbe-41ce-807e-d70670060ada"
      },
      "source": [
        "### MMR (Maximal-Marginal-Relevance) search"
      ]
    },
    {
      "cell_type": "code",
      "execution_count": null,
      "id": "76381ce8-780a-4e3b-97b1-056d6782d7d5",
      "metadata": {
        "colab": {
          "base_uri": "https://localhost:8080/"
        },
        "gather": {
          "logged": 1708990196307
        },
        "id": "76381ce8-780a-4e3b-97b1-056d6782d7d5",
        "nbmake": {
          "post_cell_execute": [
            "assert len(results) > 0"
          ]
        },
        "outputId": "d5644109-15ce-43dc-d3c5-40485c146da0"
      },
      "outputs": [],
      "source": [
        "results = vstore.max_marginal_relevance_search(\n",
        "    \"Our life is what we make of it\",\n",
        "    k=3,\n",
        "    filter={\"author\": \"aristotle\"},\n",
        ")\n",
        "for res in results:\n",
        "    print(f\"* {res.page_content} [{res.metadata}]\")"
      ]
    },
    {
      "cell_type": "markdown",
      "id": "1cc86edd-692b-4495-906c-ccfd13b03c23",
      "metadata": {
        "id": "1cc86edd-692b-4495-906c-ccfd13b03c23"
      },
      "source": [
        "### Deleting stored documents"
      ]
    },
    {
      "cell_type": "code",
      "execution_count": null,
      "id": "38a70ec4-b522-4d32-9ead-c642864fca37",
      "metadata": {
        "colab": {
          "base_uri": "https://localhost:8080/"
        },
        "gather": {
          "logged": 1708981791216
        },
        "id": "38a70ec4-b522-4d32-9ead-c642864fca37",
        "nbmake": {
          "post_cell_execute": [
            "assert delete_1 is True"
          ]
        },
        "outputId": "5bf5b0eb-6a3b-4399-eb18-e6e35def5fe1"
      },
      "outputs": [],
      "source": [
        "delete_1 = vstore.delete(inserted_ids[:3])\n",
        "print(f\"all_succeed={delete_1}\")  # True, all documents deleted"
      ]
    },
    {
      "cell_type": "code",
      "execution_count": null,
      "id": "d4cf49ed-9d29-4ed9-bdab-51a308c41b8e",
      "metadata": {
        "colab": {
          "base_uri": "https://localhost:8080/"
        },
        "gather": {
          "logged": 1708981797523
        },
        "id": "d4cf49ed-9d29-4ed9-bdab-51a308c41b8e",
        "nbmake": {
          "post_cell_execute": [
            "assert delete_2 is True"
          ]
        },
        "outputId": "5ffa9c7f-28f5-4bad-ad7a-e90a2cfea5d8"
      },
      "outputs": [],
      "source": [
        "delete_2 = vstore.delete(inserted_ids[2:5])\n",
        "print(f\"some_succeeds={delete_2}\")  # True, though some IDs were gone already"
      ]
    },
    {
      "cell_type": "markdown",
      "id": "847181ba-77d1-4a17-b7f9-9e2c3d8efd13",
      "metadata": {
        "id": "847181ba-77d1-4a17-b7f9-9e2c3d8efd13"
      },
      "source": [
        "### Running A Minimal RAG Chain\n",
        "The next cells will implement a simple RAG pipeline:\n",
        "- download a sample PDF file and load it onto the store;\n",
        "- create a RAG chain with LCEL (LangChain Expression Language), with the vector store at its heart;\n",
        "- run the question-answering chain."
      ]
    },
    {
      "cell_type": "code",
      "execution_count": null,
      "id": "5cbc4dba-0d5e-4038-8fc5-de6cadd1c2a9",
      "metadata": {
        "colab": {
          "base_uri": "https://localhost:8080/"
        },
        "gather": {
          "logged": 1708981806811
        },
        "id": "5cbc4dba-0d5e-4038-8fc5-de6cadd1c2a9",
        "outputId": "0d94ba15-7aff-4cf0-e7b6-1a0c763de44e"
      },
      "outputs": [],
      "source": [
        "!curl -L \\\n",
        "\"https://github.com/awesome-astra/datasets/blob/main/demo-resources/what-is-philosophy/what-is-philosophy.pdf?raw=true\" -o \"what-is-philosophy.pdf\""
      ]
    },
    {
      "cell_type": "code",
      "execution_count": null,
      "id": "459385be-5e9c-47ff-ba53-2b7ae6166b09",
      "metadata": {
        "colab": {
          "base_uri": "https://localhost:8080/",
          "height": 382
        },
        "gather": {
          "logged": 1708981813217
        },
        "id": "459385be-5e9c-47ff-ba53-2b7ae6166b09",
        "nbmake": {
          "post_cell_execute": [
            "assert len(docs_from_pdf) > 0\n",
            "assert len(inserted_ids_from_pdf) > 0"
          ]
        },
        "outputId": "7ac0d07e-f1ec-4b25-c807-595c4502db76"
      },
      "outputs": [],
      "source": [
        "#Load the PDF file\n",
        "\n",
        "pdf_loader = PyPDFLoader(\"what-is-philosophy.pdf\")\n",
        "#Create document chunks & embeddings\n",
        "splitter = RecursiveCharacterTextSplitter(chunk_size=512, chunk_overlap=64)\n",
        "docs_from_pdf = pdf_loader.load_and_split(text_splitter=splitter)\n",
        "\n",
        "print(f\"Documents from PDF: {len(docs_from_pdf)}.\")\n",
        "inserted_ids_from_pdf = vstore.add_documents(docs_from_pdf)\n",
        "print(f\"Inserted {len(inserted_ids_from_pdf)} documents.\")"
      ]
    },
    {
      "cell_type": "code",
      "execution_count": null,
      "id": "5010a66c-4298-4e32-82b5-2da0d36a5c70",
      "metadata": {
        "gather": {
          "logged": 1708981820222
        },
        "id": "5010a66c-4298-4e32-82b5-2da0d36a5c70"
      },
      "outputs": [],
      "source": [
        "#Create the prompt and chain\n",
        "retriever = vstore.as_retriever(search_kwargs={\"k\": 3})\n",
        "\n",
        "philo_template = \"\"\"\n",
        "You are a philosopher that draws inspiration from great thinkers of the past\n",
        "to craft well-thought answers to user questions. Use the provided context as the basis\n",
        "for your answers and do not make up new reasoning paths - just mix-and-match what you are given.\n",
        "Your answers must be concise and to the point, and refrain from answering about other topics than philosophy.\n",
        "\n",
        "CONTEXT:\n",
        "{context}\n",
        "\n",
        "QUESTION: {question}\n",
        "\n",
        "YOUR ANSWER:\"\"\"\n",
        "\n",
        "philo_prompt = ChatPromptTemplate.from_template(philo_template)\n",
        "\n",
        "llm = ChatOpenAI()\n",
        "\n",
        "chain = (\n",
        "    {\"context\": retriever, \"question\": RunnablePassthrough()}\n",
        "    | philo_prompt\n",
        "    | llm\n",
        "    | StrOutputParser()\n",
        ")"
      ]
    },
    {
      "cell_type": "code",
      "execution_count": null,
      "id": "fcbc1296-6c7c-478b-b55b-533ba4e54ddb",
      "metadata": {
        "gather": {
          "logged": 1708981828470
        },
        "id": "fcbc1296-6c7c-478b-b55b-533ba4e54ddb"
      },
      "outputs": [],
      "source": [
        "#Run the whole chain and answer question\n",
        "chain.invoke(\"How does Russel elaborate on Peirce's idea of the security blanket?\")"
      ]
    },
    {
      "cell_type": "markdown",
      "id": "177610c7-50d0-4b7b-8634-b03338054c8e",
      "metadata": {
        "id": "177610c7-50d0-4b7b-8634-b03338054c8e"
      },
      "source": [
        "### Cleanup\n",
        "If you want to completely delete the collection from your DSE7 instance, run this.\n",
        "\n",
        "_(You will lose the data you stored in it.)_"
      ]
    },
    {
      "cell_type": "code",
      "execution_count": null,
      "id": "fd405a13-6f71-46fa-87e6-167238e9c25e",
      "metadata": {
        "id": "fd405a13-6f71-46fa-87e6-167238e9c25e"
      },
      "outputs": [],
      "source": [
        "vstore.delete_collection()"
      ]
    },
    {
      "cell_type": "markdown",
      "id": "c10ece4d-ae06-42ab-baf4-4d0ac2051743",
      "metadata": {
        "id": "c10ece4d-ae06-42ab-baf4-4d0ac2051743"
      },
      "source": [
        "### Learn more"
      ]
    },
    {
      "cell_type": "markdown",
      "id": "51ea8b69-7e15-458f-85aa-9fa199f95f9c",
      "metadata": {
        "id": "51ea8b69-7e15-458f-85aa-9fa199f95f9c"
      },
      "source": [
        "For more information, extended quickstarts and additional usage examples, please visit the [CassIO documentation](https://cassio.org/frameworks/langchain/about/) for more on using the LangChain `Cassandra` vector store."
      ]
    }
  ],
  "metadata": {
    "colab": {
      "provenance": []
    },
    "kernel_info": {
      "name": "python310-sdkv2"
    },
    "kernelspec": {
      "display_name": "311env",
      "language": "python",
      "name": "python3"
    },
    "language_info": {
      "codemirror_mode": {
        "name": "ipython",
        "version": 3
      },
      "file_extension": ".py",
      "mimetype": "text/x-python",
      "name": "python",
      "nbconvert_exporter": "python",
      "pygments_lexer": "ipython3",
      "version": "3.11.4"
    },
    "microsoft": {
      "host": {
        "AzureML": {
          "notebookHasBeenCompleted": true
        }
      },
      "ms_spell_check": {
        "ms_spell_check_language": "en"
      }
    },
    "nteract": {
      "version": "nteract-front-end@1.0.0"
    },
    "widgets": {
      "application/vnd.jupyter.widget-state+json": {
        "13c7e9383ed34455a8b2c5e92336e8bb": {
          "model_module": "@jupyter-widgets/controls",
          "model_module_version": "1.5.0",
          "model_name": "HTMLModel",
          "state": {
            "_dom_classes": [],
            "_model_module": "@jupyter-widgets/controls",
            "_model_module_version": "1.5.0",
            "_model_name": "HTMLModel",
            "_view_count": null,
            "_view_module": "@jupyter-widgets/controls",
            "_view_module_version": "1.5.0",
            "_view_name": "HTMLView",
            "description": "",
            "description_tooltip": null,
            "layout": "IPY_MODEL_7e8961cafe4d4936837a11a03e9784cc",
            "placeholder": "​",
            "style": "IPY_MODEL_3dc94f9231d94ada8e21a84f0b3adacd",
            "value": " 67.6k/67.6k [00:00&lt;00:00, 275kB/s]"
          }
        },
        "1450de4829384ae1bf92f93660977c50": {
          "model_module": "@jupyter-widgets/controls",
          "model_module_version": "1.5.0",
          "model_name": "HBoxModel",
          "state": {
            "_dom_classes": [],
            "_model_module": "@jupyter-widgets/controls",
            "_model_module_version": "1.5.0",
            "_model_name": "HBoxModel",
            "_view_count": null,
            "_view_module": "@jupyter-widgets/controls",
            "_view_module_version": "1.5.0",
            "_view_name": "HBoxView",
            "box_style": "",
            "children": [
              "IPY_MODEL_1d5a031fa059403fb82003deb5cab2dd",
              "IPY_MODEL_7d7acde1e2cb4e319627a6d4784e8924",
              "IPY_MODEL_488f6a9b3fe44f04a339799fa08aa671"
            ],
            "layout": "IPY_MODEL_3ae4027d76eb4f3791e23e1a734698b1"
          }
        },
        "1a0f592998b548f6aad3d908776f41d9": {
          "model_module": "@jupyter-widgets/controls",
          "model_module_version": "1.5.0",
          "model_name": "ProgressStyleModel",
          "state": {
            "_model_module": "@jupyter-widgets/controls",
            "_model_module_version": "1.5.0",
            "_model_name": "ProgressStyleModel",
            "_view_count": null,
            "_view_module": "@jupyter-widgets/base",
            "_view_module_version": "1.2.0",
            "_view_name": "StyleView",
            "bar_color": null,
            "description_width": ""
          }
        },
        "1a2164db9f2f444b977552a8888b08b0": {
          "model_module": "@jupyter-widgets/controls",
          "model_module_version": "1.5.0",
          "model_name": "HTMLModel",
          "state": {
            "_dom_classes": [],
            "_model_module": "@jupyter-widgets/controls",
            "_model_module_version": "1.5.0",
            "_model_name": "HTMLModel",
            "_view_count": null,
            "_view_module": "@jupyter-widgets/controls",
            "_view_module_version": "1.5.0",
            "_view_name": "HTMLView",
            "description": "",
            "description_tooltip": null,
            "layout": "IPY_MODEL_9bbe117d8afc4e6ea9e6ce205e016427",
            "placeholder": "​",
            "style": "IPY_MODEL_b3f463f0300844739189c0c8ddb16854",
            "value": " 574/574 [00:00&lt;00:00, 25.6kB/s]"
          }
        },
        "1d5a031fa059403fb82003deb5cab2dd": {
          "model_module": "@jupyter-widgets/controls",
          "model_module_version": "1.5.0",
          "model_name": "HTMLModel",
          "state": {
            "_dom_classes": [],
            "_model_module": "@jupyter-widgets/controls",
            "_model_module_version": "1.5.0",
            "_model_name": "HTMLModel",
            "_view_count": null,
            "_view_module": "@jupyter-widgets/controls",
            "_view_module_version": "1.5.0",
            "_view_name": "HTMLView",
            "description": "",
            "description_tooltip": null,
            "layout": "IPY_MODEL_77f772e3a41647b5a6d20c774ecd336a",
            "placeholder": "​",
            "style": "IPY_MODEL_73e4bb37413743c5a0e8b4fd1ee3ad87",
            "value": "Generating train split: "
          }
        },
        "21147c0ee3a44a88a5ea4fd5dde1b436": {
          "model_module": "@jupyter-widgets/base",
          "model_module_version": "1.2.0",
          "model_name": "LayoutModel",
          "state": {
            "_model_module": "@jupyter-widgets/base",
            "_model_module_version": "1.2.0",
            "_model_name": "LayoutModel",
            "_view_count": null,
            "_view_module": "@jupyter-widgets/base",
            "_view_module_version": "1.2.0",
            "_view_name": "LayoutView",
            "align_content": null,
            "align_items": null,
            "align_self": null,
            "border": null,
            "bottom": null,
            "display": null,
            "flex": null,
            "flex_flow": null,
            "grid_area": null,
            "grid_auto_columns": null,
            "grid_auto_flow": null,
            "grid_auto_rows": null,
            "grid_column": null,
            "grid_gap": null,
            "grid_row": null,
            "grid_template_areas": null,
            "grid_template_columns": null,
            "grid_template_rows": null,
            "height": null,
            "justify_content": null,
            "justify_items": null,
            "left": null,
            "margin": null,
            "max_height": null,
            "max_width": null,
            "min_height": null,
            "min_width": null,
            "object_fit": null,
            "object_position": null,
            "order": null,
            "overflow": null,
            "overflow_x": null,
            "overflow_y": null,
            "padding": null,
            "right": null,
            "top": null,
            "visibility": null,
            "width": null
          }
        },
        "2f56513006f348f0b52b41e517a3f9e0": {
          "model_module": "@jupyter-widgets/base",
          "model_module_version": "1.2.0",
          "model_name": "LayoutModel",
          "state": {
            "_model_module": "@jupyter-widgets/base",
            "_model_module_version": "1.2.0",
            "_model_name": "LayoutModel",
            "_view_count": null,
            "_view_module": "@jupyter-widgets/base",
            "_view_module_version": "1.2.0",
            "_view_name": "LayoutView",
            "align_content": null,
            "align_items": null,
            "align_self": null,
            "border": null,
            "bottom": null,
            "display": null,
            "flex": null,
            "flex_flow": null,
            "grid_area": null,
            "grid_auto_columns": null,
            "grid_auto_flow": null,
            "grid_auto_rows": null,
            "grid_column": null,
            "grid_gap": null,
            "grid_row": null,
            "grid_template_areas": null,
            "grid_template_columns": null,
            "grid_template_rows": null,
            "height": null,
            "justify_content": null,
            "justify_items": null,
            "left": null,
            "margin": null,
            "max_height": null,
            "max_width": null,
            "min_height": null,
            "min_width": null,
            "object_fit": null,
            "object_position": null,
            "order": null,
            "overflow": null,
            "overflow_x": null,
            "overflow_y": null,
            "padding": null,
            "right": null,
            "top": null,
            "visibility": null,
            "width": null
          }
        },
        "37c1b5a7cb9a490eb469483d299dfbd9": {
          "model_module": "@jupyter-widgets/controls",
          "model_module_version": "1.5.0",
          "model_name": "FloatProgressModel",
          "state": {
            "_dom_classes": [],
            "_model_module": "@jupyter-widgets/controls",
            "_model_module_version": "1.5.0",
            "_model_name": "FloatProgressModel",
            "_view_count": null,
            "_view_module": "@jupyter-widgets/controls",
            "_view_module_version": "1.5.0",
            "_view_name": "ProgressView",
            "bar_style": "success",
            "description": "",
            "description_tooltip": null,
            "layout": "IPY_MODEL_5e57731188c8499e98c515a62971a293",
            "max": 67554,
            "min": 0,
            "orientation": "horizontal",
            "style": "IPY_MODEL_97e7a5a323e747aea2250af5be56c619",
            "value": 67554
          }
        },
        "3ae4027d76eb4f3791e23e1a734698b1": {
          "model_module": "@jupyter-widgets/base",
          "model_module_version": "1.2.0",
          "model_name": "LayoutModel",
          "state": {
            "_model_module": "@jupyter-widgets/base",
            "_model_module_version": "1.2.0",
            "_model_name": "LayoutModel",
            "_view_count": null,
            "_view_module": "@jupyter-widgets/base",
            "_view_module_version": "1.2.0",
            "_view_name": "LayoutView",
            "align_content": null,
            "align_items": null,
            "align_self": null,
            "border": null,
            "bottom": null,
            "display": null,
            "flex": null,
            "flex_flow": null,
            "grid_area": null,
            "grid_auto_columns": null,
            "grid_auto_flow": null,
            "grid_auto_rows": null,
            "grid_column": null,
            "grid_gap": null,
            "grid_row": null,
            "grid_template_areas": null,
            "grid_template_columns": null,
            "grid_template_rows": null,
            "height": null,
            "justify_content": null,
            "justify_items": null,
            "left": null,
            "margin": null,
            "max_height": null,
            "max_width": null,
            "min_height": null,
            "min_width": null,
            "object_fit": null,
            "object_position": null,
            "order": null,
            "overflow": null,
            "overflow_x": null,
            "overflow_y": null,
            "padding": null,
            "right": null,
            "top": null,
            "visibility": null,
            "width": null
          }
        },
        "3b159fdf02d24ab2bf50964ff23d687f": {
          "model_module": "@jupyter-widgets/controls",
          "model_module_version": "1.5.0",
          "model_name": "DescriptionStyleModel",
          "state": {
            "_model_module": "@jupyter-widgets/controls",
            "_model_module_version": "1.5.0",
            "_model_name": "DescriptionStyleModel",
            "_view_count": null,
            "_view_module": "@jupyter-widgets/base",
            "_view_module_version": "1.2.0",
            "_view_name": "StyleView",
            "description_width": ""
          }
        },
        "3dc94f9231d94ada8e21a84f0b3adacd": {
          "model_module": "@jupyter-widgets/controls",
          "model_module_version": "1.5.0",
          "model_name": "DescriptionStyleModel",
          "state": {
            "_model_module": "@jupyter-widgets/controls",
            "_model_module_version": "1.5.0",
            "_model_name": "DescriptionStyleModel",
            "_view_count": null,
            "_view_module": "@jupyter-widgets/base",
            "_view_module_version": "1.2.0",
            "_view_name": "StyleView",
            "description_width": ""
          }
        },
        "488f6a9b3fe44f04a339799fa08aa671": {
          "model_module": "@jupyter-widgets/controls",
          "model_module_version": "1.5.0",
          "model_name": "HTMLModel",
          "state": {
            "_dom_classes": [],
            "_model_module": "@jupyter-widgets/controls",
            "_model_module_version": "1.5.0",
            "_model_name": "HTMLModel",
            "_view_count": null,
            "_view_module": "@jupyter-widgets/controls",
            "_view_module_version": "1.5.0",
            "_view_name": "HTMLView",
            "description": "",
            "description_tooltip": null,
            "layout": "IPY_MODEL_c8154e1d5aab4faeb5dfc56d9749c590",
            "placeholder": "​",
            "style": "IPY_MODEL_d6a4f5ff4b874bad9ee1fa1949b4c18b",
            "value": " 450/0 [00:00&lt;00:00, 5808.91 examples/s]"
          }
        },
        "4a7f51e929954377902130ae5c5531d4": {
          "model_module": "@jupyter-widgets/controls",
          "model_module_version": "1.5.0",
          "model_name": "HBoxModel",
          "state": {
            "_dom_classes": [],
            "_model_module": "@jupyter-widgets/controls",
            "_model_module_version": "1.5.0",
            "_model_name": "HBoxModel",
            "_view_count": null,
            "_view_module": "@jupyter-widgets/controls",
            "_view_module_version": "1.5.0",
            "_view_name": "HBoxView",
            "box_style": "",
            "children": [
              "IPY_MODEL_8b3a768447a946229c9a654a24722c59",
              "IPY_MODEL_37c1b5a7cb9a490eb469483d299dfbd9",
              "IPY_MODEL_13c7e9383ed34455a8b2c5e92336e8bb"
            ],
            "layout": "IPY_MODEL_75c36360470942b68b897a5f695a283d"
          }
        },
        "56092eb7432e4c4789622e2c10024d65": {
          "model_module": "@jupyter-widgets/base",
          "model_module_version": "1.2.0",
          "model_name": "LayoutModel",
          "state": {
            "_model_module": "@jupyter-widgets/base",
            "_model_module_version": "1.2.0",
            "_model_name": "LayoutModel",
            "_view_count": null,
            "_view_module": "@jupyter-widgets/base",
            "_view_module_version": "1.2.0",
            "_view_name": "LayoutView",
            "align_content": null,
            "align_items": null,
            "align_self": null,
            "border": null,
            "bottom": null,
            "display": null,
            "flex": null,
            "flex_flow": null,
            "grid_area": null,
            "grid_auto_columns": null,
            "grid_auto_flow": null,
            "grid_auto_rows": null,
            "grid_column": null,
            "grid_gap": null,
            "grid_row": null,
            "grid_template_areas": null,
            "grid_template_columns": null,
            "grid_template_rows": null,
            "height": null,
            "justify_content": null,
            "justify_items": null,
            "left": null,
            "margin": null,
            "max_height": null,
            "max_width": null,
            "min_height": null,
            "min_width": null,
            "object_fit": null,
            "object_position": null,
            "order": null,
            "overflow": null,
            "overflow_x": null,
            "overflow_y": null,
            "padding": null,
            "right": null,
            "top": null,
            "visibility": null,
            "width": null
          }
        },
        "5e57731188c8499e98c515a62971a293": {
          "model_module": "@jupyter-widgets/base",
          "model_module_version": "1.2.0",
          "model_name": "LayoutModel",
          "state": {
            "_model_module": "@jupyter-widgets/base",
            "_model_module_version": "1.2.0",
            "_model_name": "LayoutModel",
            "_view_count": null,
            "_view_module": "@jupyter-widgets/base",
            "_view_module_version": "1.2.0",
            "_view_name": "LayoutView",
            "align_content": null,
            "align_items": null,
            "align_self": null,
            "border": null,
            "bottom": null,
            "display": null,
            "flex": null,
            "flex_flow": null,
            "grid_area": null,
            "grid_auto_columns": null,
            "grid_auto_flow": null,
            "grid_auto_rows": null,
            "grid_column": null,
            "grid_gap": null,
            "grid_row": null,
            "grid_template_areas": null,
            "grid_template_columns": null,
            "grid_template_rows": null,
            "height": null,
            "justify_content": null,
            "justify_items": null,
            "left": null,
            "margin": null,
            "max_height": null,
            "max_width": null,
            "min_height": null,
            "min_width": null,
            "object_fit": null,
            "object_position": null,
            "order": null,
            "overflow": null,
            "overflow_x": null,
            "overflow_y": null,
            "padding": null,
            "right": null,
            "top": null,
            "visibility": null,
            "width": null
          }
        },
        "73e4bb37413743c5a0e8b4fd1ee3ad87": {
          "model_module": "@jupyter-widgets/controls",
          "model_module_version": "1.5.0",
          "model_name": "DescriptionStyleModel",
          "state": {
            "_model_module": "@jupyter-widgets/controls",
            "_model_module_version": "1.5.0",
            "_model_name": "DescriptionStyleModel",
            "_view_count": null,
            "_view_module": "@jupyter-widgets/base",
            "_view_module_version": "1.2.0",
            "_view_name": "StyleView",
            "description_width": ""
          }
        },
        "75c36360470942b68b897a5f695a283d": {
          "model_module": "@jupyter-widgets/base",
          "model_module_version": "1.2.0",
          "model_name": "LayoutModel",
          "state": {
            "_model_module": "@jupyter-widgets/base",
            "_model_module_version": "1.2.0",
            "_model_name": "LayoutModel",
            "_view_count": null,
            "_view_module": "@jupyter-widgets/base",
            "_view_module_version": "1.2.0",
            "_view_name": "LayoutView",
            "align_content": null,
            "align_items": null,
            "align_self": null,
            "border": null,
            "bottom": null,
            "display": null,
            "flex": null,
            "flex_flow": null,
            "grid_area": null,
            "grid_auto_columns": null,
            "grid_auto_flow": null,
            "grid_auto_rows": null,
            "grid_column": null,
            "grid_gap": null,
            "grid_row": null,
            "grid_template_areas": null,
            "grid_template_columns": null,
            "grid_template_rows": null,
            "height": null,
            "justify_content": null,
            "justify_items": null,
            "left": null,
            "margin": null,
            "max_height": null,
            "max_width": null,
            "min_height": null,
            "min_width": null,
            "object_fit": null,
            "object_position": null,
            "order": null,
            "overflow": null,
            "overflow_x": null,
            "overflow_y": null,
            "padding": null,
            "right": null,
            "top": null,
            "visibility": null,
            "width": null
          }
        },
        "77f772e3a41647b5a6d20c774ecd336a": {
          "model_module": "@jupyter-widgets/base",
          "model_module_version": "1.2.0",
          "model_name": "LayoutModel",
          "state": {
            "_model_module": "@jupyter-widgets/base",
            "_model_module_version": "1.2.0",
            "_model_name": "LayoutModel",
            "_view_count": null,
            "_view_module": "@jupyter-widgets/base",
            "_view_module_version": "1.2.0",
            "_view_name": "LayoutView",
            "align_content": null,
            "align_items": null,
            "align_self": null,
            "border": null,
            "bottom": null,
            "display": null,
            "flex": null,
            "flex_flow": null,
            "grid_area": null,
            "grid_auto_columns": null,
            "grid_auto_flow": null,
            "grid_auto_rows": null,
            "grid_column": null,
            "grid_gap": null,
            "grid_row": null,
            "grid_template_areas": null,
            "grid_template_columns": null,
            "grid_template_rows": null,
            "height": null,
            "justify_content": null,
            "justify_items": null,
            "left": null,
            "margin": null,
            "max_height": null,
            "max_width": null,
            "min_height": null,
            "min_width": null,
            "object_fit": null,
            "object_position": null,
            "order": null,
            "overflow": null,
            "overflow_x": null,
            "overflow_y": null,
            "padding": null,
            "right": null,
            "top": null,
            "visibility": null,
            "width": null
          }
        },
        "7d7acde1e2cb4e319627a6d4784e8924": {
          "model_module": "@jupyter-widgets/controls",
          "model_module_version": "1.5.0",
          "model_name": "FloatProgressModel",
          "state": {
            "_dom_classes": [],
            "_model_module": "@jupyter-widgets/controls",
            "_model_module_version": "1.5.0",
            "_model_name": "FloatProgressModel",
            "_view_count": null,
            "_view_module": "@jupyter-widgets/controls",
            "_view_module_version": "1.5.0",
            "_view_name": "ProgressView",
            "bar_style": "success",
            "description": "",
            "description_tooltip": null,
            "layout": "IPY_MODEL_ceced63587194a99bc8ff52c342bbf26",
            "max": 1,
            "min": 0,
            "orientation": "horizontal",
            "style": "IPY_MODEL_1a0f592998b548f6aad3d908776f41d9",
            "value": 1
          }
        },
        "7e8961cafe4d4936837a11a03e9784cc": {
          "model_module": "@jupyter-widgets/base",
          "model_module_version": "1.2.0",
          "model_name": "LayoutModel",
          "state": {
            "_model_module": "@jupyter-widgets/base",
            "_model_module_version": "1.2.0",
            "_model_name": "LayoutModel",
            "_view_count": null,
            "_view_module": "@jupyter-widgets/base",
            "_view_module_version": "1.2.0",
            "_view_name": "LayoutView",
            "align_content": null,
            "align_items": null,
            "align_self": null,
            "border": null,
            "bottom": null,
            "display": null,
            "flex": null,
            "flex_flow": null,
            "grid_area": null,
            "grid_auto_columns": null,
            "grid_auto_flow": null,
            "grid_auto_rows": null,
            "grid_column": null,
            "grid_gap": null,
            "grid_row": null,
            "grid_template_areas": null,
            "grid_template_columns": null,
            "grid_template_rows": null,
            "height": null,
            "justify_content": null,
            "justify_items": null,
            "left": null,
            "margin": null,
            "max_height": null,
            "max_width": null,
            "min_height": null,
            "min_width": null,
            "object_fit": null,
            "object_position": null,
            "order": null,
            "overflow": null,
            "overflow_x": null,
            "overflow_y": null,
            "padding": null,
            "right": null,
            "top": null,
            "visibility": null,
            "width": null
          }
        },
        "89128d3346d345778cebb232d9858488": {
          "model_module": "@jupyter-widgets/controls",
          "model_module_version": "1.5.0",
          "model_name": "HBoxModel",
          "state": {
            "_dom_classes": [],
            "_model_module": "@jupyter-widgets/controls",
            "_model_module_version": "1.5.0",
            "_model_name": "HBoxModel",
            "_view_count": null,
            "_view_module": "@jupyter-widgets/controls",
            "_view_module_version": "1.5.0",
            "_view_name": "HBoxView",
            "box_style": "",
            "children": [
              "IPY_MODEL_c20af745ae544d1288863dae7b1ca34c",
              "IPY_MODEL_c662122bb2bb4b458c08e4043ddd587d",
              "IPY_MODEL_1a2164db9f2f444b977552a8888b08b0"
            ],
            "layout": "IPY_MODEL_f4230c5994ef455cb3c0f0a9f6e91937"
          }
        },
        "8b3a768447a946229c9a654a24722c59": {
          "model_module": "@jupyter-widgets/controls",
          "model_module_version": "1.5.0",
          "model_name": "HTMLModel",
          "state": {
            "_dom_classes": [],
            "_model_module": "@jupyter-widgets/controls",
            "_model_module_version": "1.5.0",
            "_model_name": "HTMLModel",
            "_view_count": null,
            "_view_module": "@jupyter-widgets/controls",
            "_view_module_version": "1.5.0",
            "_view_name": "HTMLView",
            "description": "",
            "description_tooltip": null,
            "layout": "IPY_MODEL_2f56513006f348f0b52b41e517a3f9e0",
            "placeholder": "​",
            "style": "IPY_MODEL_dff2c0370c1845e4b69a8c2493961698",
            "value": "Downloading data: 100%"
          }
        },
        "97e7a5a323e747aea2250af5be56c619": {
          "model_module": "@jupyter-widgets/controls",
          "model_module_version": "1.5.0",
          "model_name": "ProgressStyleModel",
          "state": {
            "_model_module": "@jupyter-widgets/controls",
            "_model_module_version": "1.5.0",
            "_model_name": "ProgressStyleModel",
            "_view_count": null,
            "_view_module": "@jupyter-widgets/base",
            "_view_module_version": "1.2.0",
            "_view_name": "StyleView",
            "bar_color": null,
            "description_width": ""
          }
        },
        "9bbe117d8afc4e6ea9e6ce205e016427": {
          "model_module": "@jupyter-widgets/base",
          "model_module_version": "1.2.0",
          "model_name": "LayoutModel",
          "state": {
            "_model_module": "@jupyter-widgets/base",
            "_model_module_version": "1.2.0",
            "_model_name": "LayoutModel",
            "_view_count": null,
            "_view_module": "@jupyter-widgets/base",
            "_view_module_version": "1.2.0",
            "_view_name": "LayoutView",
            "align_content": null,
            "align_items": null,
            "align_self": null,
            "border": null,
            "bottom": null,
            "display": null,
            "flex": null,
            "flex_flow": null,
            "grid_area": null,
            "grid_auto_columns": null,
            "grid_auto_flow": null,
            "grid_auto_rows": null,
            "grid_column": null,
            "grid_gap": null,
            "grid_row": null,
            "grid_template_areas": null,
            "grid_template_columns": null,
            "grid_template_rows": null,
            "height": null,
            "justify_content": null,
            "justify_items": null,
            "left": null,
            "margin": null,
            "max_height": null,
            "max_width": null,
            "min_height": null,
            "min_width": null,
            "object_fit": null,
            "object_position": null,
            "order": null,
            "overflow": null,
            "overflow_x": null,
            "overflow_y": null,
            "padding": null,
            "right": null,
            "top": null,
            "visibility": null,
            "width": null
          }
        },
        "b3f463f0300844739189c0c8ddb16854": {
          "model_module": "@jupyter-widgets/controls",
          "model_module_version": "1.5.0",
          "model_name": "DescriptionStyleModel",
          "state": {
            "_model_module": "@jupyter-widgets/controls",
            "_model_module_version": "1.5.0",
            "_model_name": "DescriptionStyleModel",
            "_view_count": null,
            "_view_module": "@jupyter-widgets/base",
            "_view_module_version": "1.2.0",
            "_view_name": "StyleView",
            "description_width": ""
          }
        },
        "bc9c93de135448c0b4d4d026080a0d17": {
          "model_module": "@jupyter-widgets/controls",
          "model_module_version": "1.5.0",
          "model_name": "ProgressStyleModel",
          "state": {
            "_model_module": "@jupyter-widgets/controls",
            "_model_module_version": "1.5.0",
            "_model_name": "ProgressStyleModel",
            "_view_count": null,
            "_view_module": "@jupyter-widgets/base",
            "_view_module_version": "1.2.0",
            "_view_name": "StyleView",
            "bar_color": null,
            "description_width": ""
          }
        },
        "c20af745ae544d1288863dae7b1ca34c": {
          "model_module": "@jupyter-widgets/controls",
          "model_module_version": "1.5.0",
          "model_name": "HTMLModel",
          "state": {
            "_dom_classes": [],
            "_model_module": "@jupyter-widgets/controls",
            "_model_module_version": "1.5.0",
            "_model_name": "HTMLModel",
            "_view_count": null,
            "_view_module": "@jupyter-widgets/controls",
            "_view_module_version": "1.5.0",
            "_view_name": "HTMLView",
            "description": "",
            "description_tooltip": null,
            "layout": "IPY_MODEL_21147c0ee3a44a88a5ea4fd5dde1b436",
            "placeholder": "​",
            "style": "IPY_MODEL_3b159fdf02d24ab2bf50964ff23d687f",
            "value": "Downloading readme: 100%"
          }
        },
        "c662122bb2bb4b458c08e4043ddd587d": {
          "model_module": "@jupyter-widgets/controls",
          "model_module_version": "1.5.0",
          "model_name": "FloatProgressModel",
          "state": {
            "_dom_classes": [],
            "_model_module": "@jupyter-widgets/controls",
            "_model_module_version": "1.5.0",
            "_model_name": "FloatProgressModel",
            "_view_count": null,
            "_view_module": "@jupyter-widgets/controls",
            "_view_module_version": "1.5.0",
            "_view_name": "ProgressView",
            "bar_style": "success",
            "description": "",
            "description_tooltip": null,
            "layout": "IPY_MODEL_56092eb7432e4c4789622e2c10024d65",
            "max": 574,
            "min": 0,
            "orientation": "horizontal",
            "style": "IPY_MODEL_bc9c93de135448c0b4d4d026080a0d17",
            "value": 574
          }
        },
        "c8154e1d5aab4faeb5dfc56d9749c590": {
          "model_module": "@jupyter-widgets/base",
          "model_module_version": "1.2.0",
          "model_name": "LayoutModel",
          "state": {
            "_model_module": "@jupyter-widgets/base",
            "_model_module_version": "1.2.0",
            "_model_name": "LayoutModel",
            "_view_count": null,
            "_view_module": "@jupyter-widgets/base",
            "_view_module_version": "1.2.0",
            "_view_name": "LayoutView",
            "align_content": null,
            "align_items": null,
            "align_self": null,
            "border": null,
            "bottom": null,
            "display": null,
            "flex": null,
            "flex_flow": null,
            "grid_area": null,
            "grid_auto_columns": null,
            "grid_auto_flow": null,
            "grid_auto_rows": null,
            "grid_column": null,
            "grid_gap": null,
            "grid_row": null,
            "grid_template_areas": null,
            "grid_template_columns": null,
            "grid_template_rows": null,
            "height": null,
            "justify_content": null,
            "justify_items": null,
            "left": null,
            "margin": null,
            "max_height": null,
            "max_width": null,
            "min_height": null,
            "min_width": null,
            "object_fit": null,
            "object_position": null,
            "order": null,
            "overflow": null,
            "overflow_x": null,
            "overflow_y": null,
            "padding": null,
            "right": null,
            "top": null,
            "visibility": null,
            "width": null
          }
        },
        "ceced63587194a99bc8ff52c342bbf26": {
          "model_module": "@jupyter-widgets/base",
          "model_module_version": "1.2.0",
          "model_name": "LayoutModel",
          "state": {
            "_model_module": "@jupyter-widgets/base",
            "_model_module_version": "1.2.0",
            "_model_name": "LayoutModel",
            "_view_count": null,
            "_view_module": "@jupyter-widgets/base",
            "_view_module_version": "1.2.0",
            "_view_name": "LayoutView",
            "align_content": null,
            "align_items": null,
            "align_self": null,
            "border": null,
            "bottom": null,
            "display": null,
            "flex": null,
            "flex_flow": null,
            "grid_area": null,
            "grid_auto_columns": null,
            "grid_auto_flow": null,
            "grid_auto_rows": null,
            "grid_column": null,
            "grid_gap": null,
            "grid_row": null,
            "grid_template_areas": null,
            "grid_template_columns": null,
            "grid_template_rows": null,
            "height": null,
            "justify_content": null,
            "justify_items": null,
            "left": null,
            "margin": null,
            "max_height": null,
            "max_width": null,
            "min_height": null,
            "min_width": null,
            "object_fit": null,
            "object_position": null,
            "order": null,
            "overflow": null,
            "overflow_x": null,
            "overflow_y": null,
            "padding": null,
            "right": null,
            "top": null,
            "visibility": null,
            "width": "20px"
          }
        },
        "d6a4f5ff4b874bad9ee1fa1949b4c18b": {
          "model_module": "@jupyter-widgets/controls",
          "model_module_version": "1.5.0",
          "model_name": "DescriptionStyleModel",
          "state": {
            "_model_module": "@jupyter-widgets/controls",
            "_model_module_version": "1.5.0",
            "_model_name": "DescriptionStyleModel",
            "_view_count": null,
            "_view_module": "@jupyter-widgets/base",
            "_view_module_version": "1.2.0",
            "_view_name": "StyleView",
            "description_width": ""
          }
        },
        "dff2c0370c1845e4b69a8c2493961698": {
          "model_module": "@jupyter-widgets/controls",
          "model_module_version": "1.5.0",
          "model_name": "DescriptionStyleModel",
          "state": {
            "_model_module": "@jupyter-widgets/controls",
            "_model_module_version": "1.5.0",
            "_model_name": "DescriptionStyleModel",
            "_view_count": null,
            "_view_module": "@jupyter-widgets/base",
            "_view_module_version": "1.2.0",
            "_view_name": "StyleView",
            "description_width": ""
          }
        },
        "f4230c5994ef455cb3c0f0a9f6e91937": {
          "model_module": "@jupyter-widgets/base",
          "model_module_version": "1.2.0",
          "model_name": "LayoutModel",
          "state": {
            "_model_module": "@jupyter-widgets/base",
            "_model_module_version": "1.2.0",
            "_model_name": "LayoutModel",
            "_view_count": null,
            "_view_module": "@jupyter-widgets/base",
            "_view_module_version": "1.2.0",
            "_view_name": "LayoutView",
            "align_content": null,
            "align_items": null,
            "align_self": null,
            "border": null,
            "bottom": null,
            "display": null,
            "flex": null,
            "flex_flow": null,
            "grid_area": null,
            "grid_auto_columns": null,
            "grid_auto_flow": null,
            "grid_auto_rows": null,
            "grid_column": null,
            "grid_gap": null,
            "grid_row": null,
            "grid_template_areas": null,
            "grid_template_columns": null,
            "grid_template_rows": null,
            "height": null,
            "justify_content": null,
            "justify_items": null,
            "left": null,
            "margin": null,
            "max_height": null,
            "max_width": null,
            "min_height": null,
            "min_width": null,
            "object_fit": null,
            "object_position": null,
            "order": null,
            "overflow": null,
            "overflow_x": null,
            "overflow_y": null,
            "padding": null,
            "right": null,
            "top": null,
            "visibility": null,
            "width": null
          }
        }
      }
    }
  },
  "nbformat": 4,
  "nbformat_minor": 5
}
